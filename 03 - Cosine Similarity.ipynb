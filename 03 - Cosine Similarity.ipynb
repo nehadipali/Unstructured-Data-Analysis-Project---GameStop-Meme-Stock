{
 "cells": [
  {
   "cell_type": "code",
   "execution_count": 102,
   "id": "0a6700f2",
   "metadata": {},
   "outputs": [],
   "source": [
    "import nltk as nltk\n",
    "from nltk import sent_tokenize, word_tokenize\n",
    "from nltk.stem.snowball import SnowballStemmer\n",
    "from nltk.stem.wordnet import WordNetLemmatizer\n",
    "from nltk.corpus import stopwords\n",
    "import pandas as pd\n",
    "import numpy as np\n",
    "import math\n",
    "import re\n",
    "import spacy\n",
    "import string\n",
    "import itertools\n",
    "from sklearn.feature_extraction.text import CountVectorizer\n",
    "from sklearn.metrics.pairwise import cosine_similarity"
   ]
  },
  {
   "cell_type": "code",
   "execution_count": 103,
   "id": "9401cb7d",
   "metadata": {},
   "outputs": [
    {
     "name": "stderr",
     "output_type": "stream",
     "text": [
      "[nltk_data] Downloading package punkt to\n",
      "[nltk_data]     C:\\Users\\lunar\\AppData\\Roaming\\nltk_data...\n",
      "[nltk_data]   Package punkt is already up-to-date!\n",
      "[nltk_data] Downloading package wordnet to\n",
      "[nltk_data]     C:\\Users\\lunar\\AppData\\Roaming\\nltk_data...\n",
      "[nltk_data]   Package wordnet is already up-to-date!\n"
     ]
    },
    {
     "data": {
      "text/plain": [
       "True"
      ]
     },
     "execution_count": 103,
     "metadata": {},
     "output_type": "execute_result"
    }
   ],
   "source": [
    "nltk.download('punkt')\n",
    "nltk.download('wordnet')"
   ]
  },
  {
   "cell_type": "code",
   "execution_count": 104,
   "id": "845f2959",
   "metadata": {},
   "outputs": [],
   "source": [
    "s_stemmer = SnowballStemmer(language = 'english')\n",
    "\n",
    "def get_stem(x):\n",
    "    x = x.split()\n",
    "    stem = []\n",
    "    stem2 = []\n",
    "    i = 0\n",
    "    j = 0\n",
    "    while i < len(x):\n",
    "        stem.append(s_stemmer.stem(x[i]))\n",
    "        i += 1\n",
    "    while j < len(stem):\n",
    "        if stem[j] not in stopwords.words('english'):\n",
    "            stem2.append(stem[j])\n",
    "        j += 1\n",
    "    return \" \".join(stem2)"
   ]
  },
  {
   "cell_type": "code",
   "execution_count": 105,
   "id": "528da24d",
   "metadata": {},
   "outputs": [],
   "source": [
    "def clean_sentence(x):\n",
    "    if type(x) == np.float:\n",
    "        return ''\n",
    "    temp = x.lower()\n",
    "    temp = re.sub(\"'\", \"\", temp)    \n",
    "    temp = re.sub(\"@[A-Za-z0-9_]+\",\"\", temp)\n",
    "    temp = re.sub(\"#[A-Za-z0-9_]+\",\"\", temp)\n",
    "    temp = re.sub(r'http\\S+', '', temp)\n",
    "    temp = re.sub('[()!?]', ' ', temp)\n",
    "    temp = re.sub('\\[.*?\\]',' ', temp)\n",
    "    temp = re.sub(\"[^a-z0-9]\",\" \", temp)\n",
    "    temp = re.sub(r\"[^a-z]\", ' ', temp)\n",
    "    temp = re.sub(r'([r][t]|[g][t])', '', temp)\n",
    "    temp = re.sub(r'([ ][n][ ]|[ ][ ][ ])', '', temp)\n",
    "    return temp"
   ]
  },
  {
   "cell_type": "code",
   "execution_count": 106,
   "id": "47650fc4",
   "metadata": {},
   "outputs": [],
   "source": [
    "def kind_check(x):\n",
    "    x = x.split()\n",
    "    if 'stock' in x:\n",
    "        i = 0\n",
    "        while i < len(x):\n",
    "            if i != len(x) - 1:\n",
    "                if x[i] == 'stock':\n",
    "                    if (x[i + 1] != 'price' \n",
    "                        and x[i + 1] != 'prices'\n",
    "                        and x[i + 1] != 'market'\n",
    "                        and x[i + 1] != 'markets'\n",
    "                        and x[i - 1] != 'gamestop'\n",
    "                        and x[i - 1] != 'gme'\n",
    "                        and x[i - 1] != 'my'\n",
    "                        and x[i - 1] != 's'\n",
    "                        and ('wall','street') not in x\n",
    "                        and 'shares' not in x\n",
    "                        and 'share' not in x\n",
    "                        and 'overvalued' not in x):\n",
    "                        x[i] = 'inventory'\n",
    "                        i += 1\n",
    "                    else:\n",
    "                        i += 1\n",
    "                else:\n",
    "                    i += 1\n",
    "            else:\n",
    "                if (x[i] == 'stock'\n",
    "                        and x[i - 1] != 'gamestop'\n",
    "                        and x[i - 1] != 'gme'\n",
    "                        and x[i - 1] != 'my'\n",
    "                        and x[i - 1] != 's'\n",
    "                        and ('wall','street') not in x\n",
    "                        and 'shares' not in x\n",
    "                        and 'share' not in x\n",
    "                        and 'overvalued' not in x):\n",
    "                    x[i] = 'inventory'\n",
    "                    i += 1\n",
    "                else:\n",
    "                    i += 1\n",
    "            \n",
    "    return ' '.join(x)"
   ]
  },
  {
   "cell_type": "code",
   "execution_count": 107,
   "id": "15591d62",
   "metadata": {},
   "outputs": [],
   "source": [
    "def get_words(x):\n",
    "    return x.split()"
   ]
  },
  {
   "cell_type": "code",
   "execution_count": 108,
   "id": "1d5e56c9",
   "metadata": {},
   "outputs": [],
   "source": [
    "def cosine_similarity_calc(vector_1,vector_2):\n",
    "\n",
    "    similarity = np.dot(vector_1,vector_2)/(np.linalg.norm(vector_1)*np.linalg.norm(vector_2))\n",
    "\n",
    "    return similarity"
   ]
  },
  {
   "cell_type": "code",
   "execution_count": 109,
   "id": "0c474a85",
   "metadata": {},
   "outputs": [],
   "source": [
    "def get_similarity_value(df_in): \n",
    "    count_vec = CountVectorizer()\n",
    "    dtm = count_vec.fit_transform(df_in['stem_text']).toarray()\n",
    "    similarity_df = pd.DataFrame(cosine_similarity(dtm)).reset_index()\n",
    "    \n",
    "    return similarity_df[0]"
   ]
  },
  {
   "cell_type": "code",
   "execution_count": 110,
   "id": "eaf25e26",
   "metadata": {},
   "outputs": [],
   "source": [
    "st = 'kiko thinks it is a best time to buy gme stock because the stock price will continue rising in the future'"
   ]
  },
  {
   "cell_type": "markdown",
   "id": "aebcaafd",
   "metadata": {},
   "source": [
    "# Data 10/20 - 12/20"
   ]
  },
  {
   "cell_type": "code",
   "execution_count": 111,
   "id": "e7e87a1c",
   "metadata": {},
   "outputs": [],
   "source": [
    "df1 = pd.read_csv('Tweets_cleaned_Oct20_Dec20.csv')"
   ]
  },
  {
   "cell_type": "code",
   "execution_count": 112,
   "id": "161b4af7",
   "metadata": {},
   "outputs": [
    {
     "name": "stderr",
     "output_type": "stream",
     "text": [
      "<ipython-input-105-93b92c955c80>:2: DeprecationWarning: `np.float` is a deprecated alias for the builtin `float`. To silence this warning, use `float` by itself. Doing this will not modify any behavior and is safe. If you specifically wanted the numpy scalar type, use `np.float64` here.\n",
      "Deprecated in NumPy 1.20; for more details and guidance: https://numpy.org/devdocs/release/1.20.0-notes.html#deprecations\n",
      "  if type(x) == np.float:\n"
     ]
    }
   ],
   "source": [
    "df1['cleaned_sentence'] = df1['cleaned_sentence'].map(clean_sentence)\n",
    "df1['cleaned_sentence'] = df1['cleaned_sentence'].map(kind_check)"
   ]
  },
  {
   "cell_type": "code",
   "execution_count": 113,
   "id": "9051285e",
   "metadata": {},
   "outputs": [
    {
     "name": "stderr",
     "output_type": "stream",
     "text": [
      "<ipython-input-113-ba48bcb2f12c>:4: SettingWithCopyWarning: \n",
      "A value is trying to be set on a copy of a slice from a DataFrame.\n",
      "Try using .loc[row_indexer,col_indexer] = value instead\n",
      "\n",
      "See the caveats in the documentation: https://pandas.pydata.org/pandas-docs/stable/user_guide/indexing.html#returning-a-view-versus-a-copy\n",
      "  df1_2['phase'] = 'Oct'\n"
     ]
    }
   ],
   "source": [
    "df1_1 = df1.copy()\n",
    "df1_1['words'] = df1_1['cleaned_sentence'].map(get_words)\n",
    "df1_2 = df1_1[['cleaned_sentence', 'words']]\n",
    "df1_2['phase'] = 'Oct'"
   ]
  },
  {
   "cell_type": "code",
   "execution_count": 114,
   "id": "7e356186",
   "metadata": {},
   "outputs": [
    {
     "name": "stderr",
     "output_type": "stream",
     "text": [
      "<ipython-input-114-b8b1e4bedca9>:1: SettingWithCopyWarning: \n",
      "A value is trying to be set on a copy of a slice from a DataFrame.\n",
      "Try using .loc[row_indexer,col_indexer] = value instead\n",
      "\n",
      "See the caveats in the documentation: https://pandas.pydata.org/pandas-docs/stable/user_guide/indexing.html#returning-a-view-versus-a-copy\n",
      "  df1_2['stem_text'] = df1_2['cleaned_sentence'].map(get_stem)\n"
     ]
    }
   ],
   "source": [
    "df1_2['stem_text'] = df1_2['cleaned_sentence'].map(get_stem)"
   ]
  },
  {
   "cell_type": "code",
   "execution_count": 115,
   "id": "1c9cede6",
   "metadata": {},
   "outputs": [
    {
     "data": {
      "text/html": [
       "<div>\n",
       "<style scoped>\n",
       "    .dataframe tbody tr th:only-of-type {\n",
       "        vertical-align: middle;\n",
       "    }\n",
       "\n",
       "    .dataframe tbody tr th {\n",
       "        vertical-align: top;\n",
       "    }\n",
       "\n",
       "    .dataframe thead th {\n",
       "        text-align: right;\n",
       "    }\n",
       "</style>\n",
       "<table border=\"1\" class=\"dataframe\">\n",
       "  <thead>\n",
       "    <tr style=\"text-align: right;\">\n",
       "      <th></th>\n",
       "      <th>cleaned_sentence</th>\n",
       "      <th>words</th>\n",
       "      <th>phase</th>\n",
       "      <th>stem_text</th>\n",
       "    </tr>\n",
       "  </thead>\n",
       "  <tbody>\n",
       "    <tr>\n",
       "      <th>0</th>\n",
       "      <td>i kinda wanna open carry now tbh i think it wo...</td>\n",
       "      <td>[i, kinda, wanna, open, carry, now, tbh, i, th...</td>\n",
       "      <td>Oct</td>\n",
       "      <td>kinda wanna open carri tbh think would dope wa...</td>\n",
       "    </tr>\n",
       "    <tr>\n",
       "      <th>1</th>\n",
       "      <td>not even in inventory but what warrants gamest...</td>\n",
       "      <td>[not, even, in, inventory, but, what, warrants...</td>\n",
       "      <td>Oct</td>\n",
       "      <td>even inventori warrant gamestop sell game new ...</td>\n",
       "    </tr>\n",
       "    <tr>\n",
       "      <th>2</th>\n",
       "      <td>i think fred meyer had the possibility of last...</td>\n",
       "      <td>[i, think, fred, meyer, had, the, possibility,...</td>\n",
       "      <td>Oct</td>\n",
       "      <td>think fred meyer possibl last longer simpli be...</td>\n",
       "    </tr>\n",
       "    <tr>\n",
       "      <th>3</th>\n",
       "      <td>i never thought i d walk into a gamestop and t...</td>\n",
       "      <td>[i, never, thought, i, d, walk, into, a, games...</td>\n",
       "      <td>Oct</td>\n",
       "      <td>never thought walk gamestop told inventori ps ...</td>\n",
       "    </tr>\n",
       "    <tr>\n",
       "      <th>4</th>\n",
       "      <td>i really feel a case could he made that next t...</td>\n",
       "      <td>[i, really, feel, a, case, could, he, made, th...</td>\n",
       "      <td>Oct</td>\n",
       "      <td>realli feel case could made next time soni sel...</td>\n",
       "    </tr>\n",
       "  </tbody>\n",
       "</table>\n",
       "</div>"
      ],
      "text/plain": [
       "                                    cleaned_sentence  \\\n",
       "0  i kinda wanna open carry now tbh i think it wo...   \n",
       "1  not even in inventory but what warrants gamest...   \n",
       "2  i think fred meyer had the possibility of last...   \n",
       "3  i never thought i d walk into a gamestop and t...   \n",
       "4  i really feel a case could he made that next t...   \n",
       "\n",
       "                                               words phase  \\\n",
       "0  [i, kinda, wanna, open, carry, now, tbh, i, th...   Oct   \n",
       "1  [not, even, in, inventory, but, what, warrants...   Oct   \n",
       "2  [i, think, fred, meyer, had, the, possibility,...   Oct   \n",
       "3  [i, never, thought, i, d, walk, into, a, games...   Oct   \n",
       "4  [i, really, feel, a, case, could, he, made, th...   Oct   \n",
       "\n",
       "                                           stem_text  \n",
       "0  kinda wanna open carri tbh think would dope wa...  \n",
       "1  even inventori warrant gamestop sell game new ...  \n",
       "2  think fred meyer possibl last longer simpli be...  \n",
       "3  never thought walk gamestop told inventori ps ...  \n",
       "4  realli feel case could made next time soni sel...  "
      ]
     },
     "execution_count": 115,
     "metadata": {},
     "output_type": "execute_result"
    }
   ],
   "source": [
    "df1_2[:5]"
   ]
  },
  {
   "cell_type": "code",
   "execution_count": 116,
   "id": "cc5f453b",
   "metadata": {},
   "outputs": [],
   "source": [
    "#df1_2.to_csv(r'C:\\kiko\\10_20-12_20.csv')"
   ]
  },
  {
   "cell_type": "code",
   "execution_count": 117,
   "id": "dfff4248",
   "metadata": {},
   "outputs": [],
   "source": [
    "df1_3 = df1_2.copy()\n",
    "df1_3.loc[-1] = ['','','Oct',get_stem(st)]\n",
    "df1_3.index = df1_3.index + 1\n",
    "df1_3 = df1_3.sort_index()"
   ]
  },
  {
   "cell_type": "code",
   "execution_count": 118,
   "id": "128f32d5",
   "metadata": {},
   "outputs": [],
   "source": [
    "df1_3['score'] = get_similarity_value(df1_3)"
   ]
  },
  {
   "cell_type": "code",
   "execution_count": 119,
   "id": "0258336f",
   "metadata": {},
   "outputs": [
    {
     "data": {
      "text/html": [
       "<div>\n",
       "<style scoped>\n",
       "    .dataframe tbody tr th:only-of-type {\n",
       "        vertical-align: middle;\n",
       "    }\n",
       "\n",
       "    .dataframe tbody tr th {\n",
       "        vertical-align: top;\n",
       "    }\n",
       "\n",
       "    .dataframe thead th {\n",
       "        text-align: right;\n",
       "    }\n",
       "</style>\n",
       "<table border=\"1\" class=\"dataframe\">\n",
       "  <thead>\n",
       "    <tr style=\"text-align: right;\">\n",
       "      <th></th>\n",
       "      <th>cleaned_sentence</th>\n",
       "      <th>words</th>\n",
       "      <th>phase</th>\n",
       "      <th>stem_text</th>\n",
       "      <th>score</th>\n",
       "    </tr>\n",
       "  </thead>\n",
       "  <tbody>\n",
       "    <tr>\n",
       "      <th>0</th>\n",
       "      <td></td>\n",
       "      <td></td>\n",
       "      <td>Oct</td>\n",
       "      <td>kiko think best time buy gme stock becaus stoc...</td>\n",
       "      <td>1.000000</td>\n",
       "    </tr>\n",
       "    <tr>\n",
       "      <th>1</th>\n",
       "      <td>i kinda wanna open carry now tbh i think it wo...</td>\n",
       "      <td>[i, kinda, wanna, open, carry, now, tbh, i, th...</td>\n",
       "      <td>Oct</td>\n",
       "      <td>kinda wanna open carri tbh think would dope wa...</td>\n",
       "      <td>0.062622</td>\n",
       "    </tr>\n",
       "    <tr>\n",
       "      <th>2</th>\n",
       "      <td>not even in inventory but what warrants gamest...</td>\n",
       "      <td>[not, even, in, inventory, but, what, warrants...</td>\n",
       "      <td>Oct</td>\n",
       "      <td>even inventori warrant gamestop sell game new ...</td>\n",
       "      <td>0.000000</td>\n",
       "    </tr>\n",
       "    <tr>\n",
       "      <th>3</th>\n",
       "      <td>i think fred meyer had the possibility of last...</td>\n",
       "      <td>[i, think, fred, meyer, had, the, possibility,...</td>\n",
       "      <td>Oct</td>\n",
       "      <td>think fred meyer possibl last longer simpli be...</td>\n",
       "      <td>0.269680</td>\n",
       "    </tr>\n",
       "    <tr>\n",
       "      <th>4</th>\n",
       "      <td>i never thought i d walk into a gamestop and t...</td>\n",
       "      <td>[i, never, thought, i, d, walk, into, a, games...</td>\n",
       "      <td>Oct</td>\n",
       "      <td>never thought walk gamestop told inventori ps ...</td>\n",
       "      <td>0.000000</td>\n",
       "    </tr>\n",
       "    <tr>\n",
       "      <th>...</th>\n",
       "      <td>...</td>\n",
       "      <td>...</td>\n",
       "      <td>...</td>\n",
       "      <td>...</td>\n",
       "      <td>...</td>\n",
       "    </tr>\n",
       "    <tr>\n",
       "      <th>4996</th>\n",
       "      <td>check page live up to date inventory info i th...</td>\n",
       "      <td>[check, page, live, up, to, date, inventory, i...</td>\n",
       "      <td>Oct</td>\n",
       "      <td>check page live date inventori info think game...</td>\n",
       "      <td>0.077850</td>\n",
       "    </tr>\n",
       "    <tr>\n",
       "      <th>4997</th>\n",
       "      <td>i saw the contract version had likeleft but i ...</td>\n",
       "      <td>[i, saw, the, contract, version, had, likeleft...</td>\n",
       "      <td>Oct</td>\n",
       "      <td>saw contract version likeleft feel like open l...</td>\n",
       "      <td>0.049690</td>\n",
       "    </tr>\n",
       "    <tr>\n",
       "      <th>4998</th>\n",
       "      <td>in australia all sold out and eb games our gam...</td>\n",
       "      <td>[in, australia, all, sold, out, and, eb, games...</td>\n",
       "      <td>Oct</td>\n",
       "      <td>australia sold eb game gamestop wont inventori...</td>\n",
       "      <td>0.000000</td>\n",
       "    </tr>\n",
       "    <tr>\n",
       "      <th>4999</th>\n",
       "      <td>xbox series x was in inventory on gamestop s w...</td>\n",
       "      <td>[xbox, series, x, was, in, inventory, on, game...</td>\n",
       "      <td>Oct</td>\n",
       "      <td>xbox seri x inventori gamestop websit less sec...</td>\n",
       "      <td>0.059235</td>\n",
       "    </tr>\n",
       "    <tr>\n",
       "      <th>5000</th>\n",
       "      <td>now i m up wondering if i should go to my game...</td>\n",
       "      <td>[now, i, m, up, wondering, if, i, should, go, ...</td>\n",
       "      <td>Oct</td>\n",
       "      <td>wonder go gamestop camp overnight know even x ...</td>\n",
       "      <td>0.000000</td>\n",
       "    </tr>\n",
       "  </tbody>\n",
       "</table>\n",
       "<p>5001 rows × 5 columns</p>\n",
       "</div>"
      ],
      "text/plain": [
       "                                       cleaned_sentence  \\\n",
       "0                                                         \n",
       "1     i kinda wanna open carry now tbh i think it wo...   \n",
       "2     not even in inventory but what warrants gamest...   \n",
       "3     i think fred meyer had the possibility of last...   \n",
       "4     i never thought i d walk into a gamestop and t...   \n",
       "...                                                 ...   \n",
       "4996  check page live up to date inventory info i th...   \n",
       "4997  i saw the contract version had likeleft but i ...   \n",
       "4998  in australia all sold out and eb games our gam...   \n",
       "4999  xbox series x was in inventory on gamestop s w...   \n",
       "5000  now i m up wondering if i should go to my game...   \n",
       "\n",
       "                                                  words phase  \\\n",
       "0                                                         Oct   \n",
       "1     [i, kinda, wanna, open, carry, now, tbh, i, th...   Oct   \n",
       "2     [not, even, in, inventory, but, what, warrants...   Oct   \n",
       "3     [i, think, fred, meyer, had, the, possibility,...   Oct   \n",
       "4     [i, never, thought, i, d, walk, into, a, games...   Oct   \n",
       "...                                                 ...   ...   \n",
       "4996  [check, page, live, up, to, date, inventory, i...   Oct   \n",
       "4997  [i, saw, the, contract, version, had, likeleft...   Oct   \n",
       "4998  [in, australia, all, sold, out, and, eb, games...   Oct   \n",
       "4999  [xbox, series, x, was, in, inventory, on, game...   Oct   \n",
       "5000  [now, i, m, up, wondering, if, i, should, go, ...   Oct   \n",
       "\n",
       "                                              stem_text     score  \n",
       "0     kiko think best time buy gme stock becaus stoc...  1.000000  \n",
       "1     kinda wanna open carri tbh think would dope wa...  0.062622  \n",
       "2     even inventori warrant gamestop sell game new ...  0.000000  \n",
       "3     think fred meyer possibl last longer simpli be...  0.269680  \n",
       "4     never thought walk gamestop told inventori ps ...  0.000000  \n",
       "...                                                 ...       ...  \n",
       "4996  check page live date inventori info think game...  0.077850  \n",
       "4997  saw contract version likeleft feel like open l...  0.049690  \n",
       "4998  australia sold eb game gamestop wont inventori...  0.000000  \n",
       "4999  xbox seri x inventori gamestop websit less sec...  0.059235  \n",
       "5000  wonder go gamestop camp overnight know even x ...  0.000000  \n",
       "\n",
       "[5001 rows x 5 columns]"
      ]
     },
     "execution_count": 119,
     "metadata": {},
     "output_type": "execute_result"
    }
   ],
   "source": [
    "df1_3"
   ]
  },
  {
   "cell_type": "code",
   "execution_count": 120,
   "id": "c6a329a8",
   "metadata": {},
   "outputs": [
    {
     "data": {
      "text/plain": [
       "0.031220965651081775"
      ]
     },
     "execution_count": 120,
     "metadata": {},
     "output_type": "execute_result"
    }
   ],
   "source": [
    "df1_3['score'].mean()"
   ]
  },
  {
   "cell_type": "markdown",
   "id": "f3d6161d",
   "metadata": {},
   "source": [
    "# Data 1/21 - 3/21"
   ]
  },
  {
   "cell_type": "code",
   "execution_count": 121,
   "id": "1949022a",
   "metadata": {},
   "outputs": [
    {
     "name": "stderr",
     "output_type": "stream",
     "text": [
      "<ipython-input-105-93b92c955c80>:2: DeprecationWarning: `np.float` is a deprecated alias for the builtin `float`. To silence this warning, use `float` by itself. Doing this will not modify any behavior and is safe. If you specifically wanted the numpy scalar type, use `np.float64` here.\n",
      "Deprecated in NumPy 1.20; for more details and guidance: https://numpy.org/devdocs/release/1.20.0-notes.html#deprecations\n",
      "  if type(x) == np.float:\n"
     ]
    }
   ],
   "source": [
    "df2 = pd.read_csv('Tweets_cleaned_Jan21_Mar21.csv')\n",
    "df2['cleaned_sentence'] = df2['cleaned_sentence'].map(clean_sentence)\n",
    "df2['cleaned_sentence'] = df2['cleaned_sentence'].map(kind_check)"
   ]
  },
  {
   "cell_type": "code",
   "execution_count": 122,
   "id": "de332f2f",
   "metadata": {},
   "outputs": [
    {
     "name": "stderr",
     "output_type": "stream",
     "text": [
      "<ipython-input-122-2e9ccab530b0>:4: SettingWithCopyWarning: \n",
      "A value is trying to be set on a copy of a slice from a DataFrame.\n",
      "Try using .loc[row_indexer,col_indexer] = value instead\n",
      "\n",
      "See the caveats in the documentation: https://pandas.pydata.org/pandas-docs/stable/user_guide/indexing.html#returning-a-view-versus-a-copy\n",
      "  df2_2['phase'] = 'Jan'\n"
     ]
    }
   ],
   "source": [
    "df2_1 = df2.copy()\n",
    "df2_1['words'] = df2_1['cleaned_sentence'].map(get_words)\n",
    "df2_2 = df2_1[['cleaned_sentence', 'words']]\n",
    "df2_2['phase'] = 'Jan'"
   ]
  },
  {
   "cell_type": "code",
   "execution_count": 123,
   "id": "214c727c",
   "metadata": {
    "scrolled": true
   },
   "outputs": [
    {
     "name": "stderr",
     "output_type": "stream",
     "text": [
      "<ipython-input-123-409916187f92>:1: SettingWithCopyWarning: \n",
      "A value is trying to be set on a copy of a slice from a DataFrame.\n",
      "Try using .loc[row_indexer,col_indexer] = value instead\n",
      "\n",
      "See the caveats in the documentation: https://pandas.pydata.org/pandas-docs/stable/user_guide/indexing.html#returning-a-view-versus-a-copy\n",
      "  df2_2['stem_text'] = df2_2['cleaned_sentence'].map(get_stem)\n"
     ]
    }
   ],
   "source": [
    "df2_2['stem_text'] = df2_2['cleaned_sentence'].map(get_stem)"
   ]
  },
  {
   "cell_type": "code",
   "execution_count": 124,
   "id": "5975d78c",
   "metadata": {},
   "outputs": [
    {
     "data": {
      "text/html": [
       "<div>\n",
       "<style scoped>\n",
       "    .dataframe tbody tr th:only-of-type {\n",
       "        vertical-align: middle;\n",
       "    }\n",
       "\n",
       "    .dataframe tbody tr th {\n",
       "        vertical-align: top;\n",
       "    }\n",
       "\n",
       "    .dataframe thead th {\n",
       "        text-align: right;\n",
       "    }\n",
       "</style>\n",
       "<table border=\"1\" class=\"dataframe\">\n",
       "  <thead>\n",
       "    <tr style=\"text-align: right;\">\n",
       "      <th></th>\n",
       "      <th>cleaned_sentence</th>\n",
       "      <th>words</th>\n",
       "      <th>phase</th>\n",
       "      <th>stem_text</th>\n",
       "    </tr>\n",
       "  </thead>\n",
       "  <tbody>\n",
       "    <tr>\n",
       "      <th>0</th>\n",
       "      <td>easy solution just buy him bitcoin instead of ...</td>\n",
       "      <td>[easy, solution, just, buy, him, bitcoin, inst...</td>\n",
       "      <td>Jan</td>\n",
       "      <td>easi solut buy bitcoin instead money cohen fav...</td>\n",
       "    </tr>\n",
       "    <tr>\n",
       "      <th>1</th>\n",
       "      <td>cap the vision was ryan would help the sinking...</td>\n",
       "      <td>[cap, the, vision, was, ryan, would, help, the...</td>\n",
       "      <td>Jan</td>\n",
       "      <td>cap vision ryan would help sink ship inventori...</td>\n",
       "    </tr>\n",
       "    <tr>\n",
       "      <th>2</th>\n",
       "      <td>because theyre never in inventory</td>\n",
       "      <td>[because, theyre, never, in, inventory]</td>\n",
       "      <td>Jan</td>\n",
       "      <td>becaus theyr never inventori</td>\n",
       "    </tr>\n",
       "    <tr>\n",
       "      <th>3</th>\n",
       "      <td>stay far away from the gamestop stock madness</td>\n",
       "      <td>[stay, far, away, from, the, gamestop, stock, ...</td>\n",
       "      <td>Jan</td>\n",
       "      <td>stay far away gamestop stock mad</td>\n",
       "    </tr>\n",
       "    <tr>\n",
       "      <th>4</th>\n",
       "      <td>new investors buying gamestop nyse gme stock</td>\n",
       "      <td>[new, investors, buying, gamestop, nyse, gme, ...</td>\n",
       "      <td>Jan</td>\n",
       "      <td>new investor buy gamestop nyse gme stock</td>\n",
       "    </tr>\n",
       "  </tbody>\n",
       "</table>\n",
       "</div>"
      ],
      "text/plain": [
       "                                    cleaned_sentence  \\\n",
       "0  easy solution just buy him bitcoin instead of ...   \n",
       "1  cap the vision was ryan would help the sinking...   \n",
       "2                  because theyre never in inventory   \n",
       "3      stay far away from the gamestop stock madness   \n",
       "4       new investors buying gamestop nyse gme stock   \n",
       "\n",
       "                                               words phase  \\\n",
       "0  [easy, solution, just, buy, him, bitcoin, inst...   Jan   \n",
       "1  [cap, the, vision, was, ryan, would, help, the...   Jan   \n",
       "2            [because, theyre, never, in, inventory]   Jan   \n",
       "3  [stay, far, away, from, the, gamestop, stock, ...   Jan   \n",
       "4  [new, investors, buying, gamestop, nyse, gme, ...   Jan   \n",
       "\n",
       "                                           stem_text  \n",
       "0  easi solut buy bitcoin instead money cohen fav...  \n",
       "1  cap vision ryan would help sink ship inventori...  \n",
       "2                       becaus theyr never inventori  \n",
       "3                   stay far away gamestop stock mad  \n",
       "4           new investor buy gamestop nyse gme stock  "
      ]
     },
     "execution_count": 124,
     "metadata": {},
     "output_type": "execute_result"
    }
   ],
   "source": [
    "df2_2[:5]"
   ]
  },
  {
   "cell_type": "code",
   "execution_count": 125,
   "id": "b8dd0482",
   "metadata": {},
   "outputs": [],
   "source": [
    "#df2_2.to_csv(r'C:\\kiko\\1_21-3_21.csv')"
   ]
  },
  {
   "cell_type": "code",
   "execution_count": 126,
   "id": "bd2f8ec0",
   "metadata": {},
   "outputs": [],
   "source": [
    "df2_3 = df2_2.copy()\n",
    "df2_3.loc[-1] = ['','','Jan',get_stem(st)]\n",
    "df2_3.index = df2_3.index + 1\n",
    "df2_3 = df2_3.sort_index()"
   ]
  },
  {
   "cell_type": "code",
   "execution_count": 127,
   "id": "a6788301",
   "metadata": {},
   "outputs": [],
   "source": [
    "df2_3['score'] = get_similarity_value(df2_3)"
   ]
  },
  {
   "cell_type": "code",
   "execution_count": 128,
   "id": "8e81efe7",
   "metadata": {},
   "outputs": [
    {
     "data": {
      "text/html": [
       "<div>\n",
       "<style scoped>\n",
       "    .dataframe tbody tr th:only-of-type {\n",
       "        vertical-align: middle;\n",
       "    }\n",
       "\n",
       "    .dataframe tbody tr th {\n",
       "        vertical-align: top;\n",
       "    }\n",
       "\n",
       "    .dataframe thead th {\n",
       "        text-align: right;\n",
       "    }\n",
       "</style>\n",
       "<table border=\"1\" class=\"dataframe\">\n",
       "  <thead>\n",
       "    <tr style=\"text-align: right;\">\n",
       "      <th></th>\n",
       "      <th>cleaned_sentence</th>\n",
       "      <th>words</th>\n",
       "      <th>phase</th>\n",
       "      <th>stem_text</th>\n",
       "      <th>score</th>\n",
       "    </tr>\n",
       "  </thead>\n",
       "  <tbody>\n",
       "    <tr>\n",
       "      <th>0</th>\n",
       "      <td></td>\n",
       "      <td></td>\n",
       "      <td>Jan</td>\n",
       "      <td>kiko think best time buy gme stock becaus stoc...</td>\n",
       "      <td>1.000000</td>\n",
       "    </tr>\n",
       "    <tr>\n",
       "      <th>1</th>\n",
       "      <td>easy solution just buy him bitcoin instead of ...</td>\n",
       "      <td>[easy, solution, just, buy, him, bitcoin, inst...</td>\n",
       "      <td>Jan</td>\n",
       "      <td>easi solut buy bitcoin instead money cohen fav...</td>\n",
       "      <td>0.081650</td>\n",
       "    </tr>\n",
       "    <tr>\n",
       "      <th>2</th>\n",
       "      <td>cap the vision was ryan would help the sinking...</td>\n",
       "      <td>[cap, the, vision, was, ryan, would, help, the...</td>\n",
       "      <td>Jan</td>\n",
       "      <td>cap vision ryan would help sink ship inventori...</td>\n",
       "      <td>0.055048</td>\n",
       "    </tr>\n",
       "    <tr>\n",
       "      <th>3</th>\n",
       "      <td>because theyre never in inventory</td>\n",
       "      <td>[because, theyre, never, in, inventory]</td>\n",
       "      <td>Jan</td>\n",
       "      <td>becaus theyr never inventori</td>\n",
       "      <td>0.129099</td>\n",
       "    </tr>\n",
       "    <tr>\n",
       "      <th>4</th>\n",
       "      <td>stay far away from the gamestop stock madness</td>\n",
       "      <td>[stay, far, away, from, the, gamestop, stock, ...</td>\n",
       "      <td>Jan</td>\n",
       "      <td>stay far away gamestop stock mad</td>\n",
       "      <td>0.210819</td>\n",
       "    </tr>\n",
       "    <tr>\n",
       "      <th>...</th>\n",
       "      <td>...</td>\n",
       "      <td>...</td>\n",
       "      <td>...</td>\n",
       "      <td>...</td>\n",
       "      <td>...</td>\n",
       "    </tr>\n",
       "    <tr>\n",
       "      <th>24986</th>\n",
       "      <td>corporate insiders at gamestop blackberry and ...</td>\n",
       "      <td>[corporate, insiders, at, gamestop, blackberry...</td>\n",
       "      <td>Jan</td>\n",
       "      <td>corpor insid gamestop blackberri nation bevera...</td>\n",
       "      <td>0.000000</td>\n",
       "    </tr>\n",
       "    <tr>\n",
       "      <th>24987</th>\n",
       "      <td>gamestop robinhood inventory buying frenzy ech...</td>\n",
       "      <td>[gamestop, robinhood, inventory, buying, frenz...</td>\n",
       "      <td>Jan</td>\n",
       "      <td>gamestop robinhood inventori buy frenzi echo t...</td>\n",
       "      <td>0.155700</td>\n",
       "    </tr>\n",
       "    <tr>\n",
       "      <th>24988</th>\n",
       "      <td>in cases like tesla and zoom the company can s...</td>\n",
       "      <td>[in, cases, like, tesla, and, zoom, the, compa...</td>\n",
       "      <td>Jan</td>\n",
       "      <td>case like tesla zoom compani sell inventori hi...</td>\n",
       "      <td>0.078750</td>\n",
       "    </tr>\n",
       "    <tr>\n",
       "      <th>24989</th>\n",
       "      <td>so for all your talk about traders using the m...</td>\n",
       "      <td>[so, for, all, your, talk, about, traders, usi...</td>\n",
       "      <td>Jan</td>\n",
       "      <td>talk trader use market like casino onli care r...</td>\n",
       "      <td>0.129099</td>\n",
       "    </tr>\n",
       "    <tr>\n",
       "      <th>24990</th>\n",
       "      <td>shuts inventory trading group after frenzy via</td>\n",
       "      <td>[shuts, inventory, trading, group, after, fren...</td>\n",
       "      <td>Jan</td>\n",
       "      <td>shut inventori trade group frenzi via</td>\n",
       "      <td>0.000000</td>\n",
       "    </tr>\n",
       "  </tbody>\n",
       "</table>\n",
       "<p>24991 rows × 5 columns</p>\n",
       "</div>"
      ],
      "text/plain": [
       "                                        cleaned_sentence  \\\n",
       "0                                                          \n",
       "1      easy solution just buy him bitcoin instead of ...   \n",
       "2      cap the vision was ryan would help the sinking...   \n",
       "3                      because theyre never in inventory   \n",
       "4          stay far away from the gamestop stock madness   \n",
       "...                                                  ...   \n",
       "24986  corporate insiders at gamestop blackberry and ...   \n",
       "24987  gamestop robinhood inventory buying frenzy ech...   \n",
       "24988  in cases like tesla and zoom the company can s...   \n",
       "24989  so for all your talk about traders using the m...   \n",
       "24990     shuts inventory trading group after frenzy via   \n",
       "\n",
       "                                                   words phase  \\\n",
       "0                                                          Jan   \n",
       "1      [easy, solution, just, buy, him, bitcoin, inst...   Jan   \n",
       "2      [cap, the, vision, was, ryan, would, help, the...   Jan   \n",
       "3                [because, theyre, never, in, inventory]   Jan   \n",
       "4      [stay, far, away, from, the, gamestop, stock, ...   Jan   \n",
       "...                                                  ...   ...   \n",
       "24986  [corporate, insiders, at, gamestop, blackberry...   Jan   \n",
       "24987  [gamestop, robinhood, inventory, buying, frenz...   Jan   \n",
       "24988  [in, cases, like, tesla, and, zoom, the, compa...   Jan   \n",
       "24989  [so, for, all, your, talk, about, traders, usi...   Jan   \n",
       "24990  [shuts, inventory, trading, group, after, fren...   Jan   \n",
       "\n",
       "                                               stem_text     score  \n",
       "0      kiko think best time buy gme stock becaus stoc...  1.000000  \n",
       "1      easi solut buy bitcoin instead money cohen fav...  0.081650  \n",
       "2      cap vision ryan would help sink ship inventori...  0.055048  \n",
       "3                           becaus theyr never inventori  0.129099  \n",
       "4                       stay far away gamestop stock mad  0.210819  \n",
       "...                                                  ...       ...  \n",
       "24986  corpor insid gamestop blackberri nation bevera...  0.000000  \n",
       "24987  gamestop robinhood inventori buy frenzi echo t...  0.155700  \n",
       "24988  case like tesla zoom compani sell inventori hi...  0.078750  \n",
       "24989  talk trader use market like casino onli care r...  0.129099  \n",
       "24990              shut inventori trade group frenzi via  0.000000  \n",
       "\n",
       "[24991 rows x 5 columns]"
      ]
     },
     "execution_count": 128,
     "metadata": {},
     "output_type": "execute_result"
    }
   ],
   "source": [
    "df2_3"
   ]
  },
  {
   "cell_type": "code",
   "execution_count": 129,
   "id": "e205fab1",
   "metadata": {},
   "outputs": [
    {
     "data": {
      "text/plain": [
       "0.12602066487725486"
      ]
     },
     "execution_count": 129,
     "metadata": {},
     "output_type": "execute_result"
    }
   ],
   "source": [
    "df2_3['score'].mean()"
   ]
  },
  {
   "cell_type": "markdown",
   "id": "0134d2e9",
   "metadata": {},
   "source": [
    "# Data 4/21 - 10/21"
   ]
  },
  {
   "cell_type": "code",
   "execution_count": 140,
   "id": "06dcc880",
   "metadata": {},
   "outputs": [
    {
     "name": "stderr",
     "output_type": "stream",
     "text": [
      "<ipython-input-105-93b92c955c80>:2: DeprecationWarning: `np.float` is a deprecated alias for the builtin `float`. To silence this warning, use `float` by itself. Doing this will not modify any behavior and is safe. If you specifically wanted the numpy scalar type, use `np.float64` here.\n",
      "Deprecated in NumPy 1.20; for more details and guidance: https://numpy.org/devdocs/release/1.20.0-notes.html#deprecations\n",
      "  if type(x) == np.float:\n"
     ]
    }
   ],
   "source": [
    "df3 = pd.read_csv('Tweets_cleaned_Apr21_Oct21.csv')\n",
    "df3['cleaned_sentence'] = df3['cleaned_sentence'].map(clean_sentence)\n",
    "df3['cleaned_sentence'] = df3['cleaned_sentence'].map(kind_check)"
   ]
  },
  {
   "cell_type": "code",
   "execution_count": 141,
   "id": "e50e7cdd",
   "metadata": {},
   "outputs": [
    {
     "name": "stderr",
     "output_type": "stream",
     "text": [
      "<ipython-input-141-038bdb249f56>:4: SettingWithCopyWarning: \n",
      "A value is trying to be set on a copy of a slice from a DataFrame.\n",
      "Try using .loc[row_indexer,col_indexer] = value instead\n",
      "\n",
      "See the caveats in the documentation: https://pandas.pydata.org/pandas-docs/stable/user_guide/indexing.html#returning-a-view-versus-a-copy\n",
      "  df3_2['phase'] = 'Apr'\n"
     ]
    }
   ],
   "source": [
    "df3_1 = df3.copy()\n",
    "df3_1['words'] = df3_1['cleaned_sentence'].map(get_words)\n",
    "df3_2 = df3_1[['cleaned_sentence', 'words']]\n",
    "df3_2['phase'] = 'Apr'"
   ]
  },
  {
   "cell_type": "code",
   "execution_count": 142,
   "id": "cbf6b830",
   "metadata": {},
   "outputs": [
    {
     "name": "stderr",
     "output_type": "stream",
     "text": [
      "<ipython-input-142-650b42a776be>:1: SettingWithCopyWarning: \n",
      "A value is trying to be set on a copy of a slice from a DataFrame.\n",
      "Try using .loc[row_indexer,col_indexer] = value instead\n",
      "\n",
      "See the caveats in the documentation: https://pandas.pydata.org/pandas-docs/stable/user_guide/indexing.html#returning-a-view-versus-a-copy\n",
      "  df3_2['stem_text'] = df3_2['cleaned_sentence'].map(get_stem)\n"
     ]
    }
   ],
   "source": [
    "df3_2['stem_text'] = df3_2['cleaned_sentence'].map(get_stem)"
   ]
  },
  {
   "cell_type": "code",
   "execution_count": 143,
   "id": "6cf6eea1",
   "metadata": {},
   "outputs": [
    {
     "data": {
      "text/html": [
       "<div>\n",
       "<style scoped>\n",
       "    .dataframe tbody tr th:only-of-type {\n",
       "        vertical-align: middle;\n",
       "    }\n",
       "\n",
       "    .dataframe tbody tr th {\n",
       "        vertical-align: top;\n",
       "    }\n",
       "\n",
       "    .dataframe thead th {\n",
       "        text-align: right;\n",
       "    }\n",
       "</style>\n",
       "<table border=\"1\" class=\"dataframe\">\n",
       "  <thead>\n",
       "    <tr style=\"text-align: right;\">\n",
       "      <th></th>\n",
       "      <th>cleaned_sentence</th>\n",
       "      <th>words</th>\n",
       "      <th>phase</th>\n",
       "      <th>stem_text</th>\n",
       "    </tr>\n",
       "  </thead>\n",
       "  <tbody>\n",
       "    <tr>\n",
       "      <th>0</th>\n",
       "      <td>breaking news get ahold of gamestop stock shar...</td>\n",
       "      <td>[breaking, news, get, ahold, of, gamestop, sto...</td>\n",
       "      <td>Apr</td>\n",
       "      <td>break news get ahold gamestop stock share face...</td>\n",
       "    </tr>\n",
       "    <tr>\n",
       "      <th>1</th>\n",
       "      <td>if i have to wait one more day for those games...</td>\n",
       "      <td>[if, i, have, to, wait, one, more, day, for, t...</td>\n",
       "      <td>Apr</td>\n",
       "      <td>wait one day gamestop stock movi come go explod</td>\n",
       "    </tr>\n",
       "    <tr>\n",
       "      <th>2</th>\n",
       "      <td>local politician likes gamestop gme stock soars</td>\n",
       "      <td>[local, politician, likes, gamestop, gme, stoc...</td>\n",
       "      <td>Apr</td>\n",
       "      <td>local politician like gamestop gme stock soar</td>\n",
       "    </tr>\n",
       "    <tr>\n",
       "      <th>3</th>\n",
       "      <td>oddly enough besides just amazon and ebay i so...</td>\n",
       "      <td>[oddly, enough, besides, just, amazon, and, eb...</td>\n",
       "      <td>Apr</td>\n",
       "      <td>odd enough besid amazon ebay sometim look game...</td>\n",
       "    </tr>\n",
       "    <tr>\n",
       "      <th>4</th>\n",
       "      <td>eevee tins back in inventory at gamestop thx</td>\n",
       "      <td>[eevee, tins, back, in, inventory, at, gamesto...</td>\n",
       "      <td>Apr</td>\n",
       "      <td>eeve tin back inventori gamestop thx</td>\n",
       "    </tr>\n",
       "  </tbody>\n",
       "</table>\n",
       "</div>"
      ],
      "text/plain": [
       "                                    cleaned_sentence  \\\n",
       "0  breaking news get ahold of gamestop stock shar...   \n",
       "1  if i have to wait one more day for those games...   \n",
       "2    local politician likes gamestop gme stock soars   \n",
       "3  oddly enough besides just amazon and ebay i so...   \n",
       "4       eevee tins back in inventory at gamestop thx   \n",
       "\n",
       "                                               words phase  \\\n",
       "0  [breaking, news, get, ahold, of, gamestop, sto...   Apr   \n",
       "1  [if, i, have, to, wait, one, more, day, for, t...   Apr   \n",
       "2  [local, politician, likes, gamestop, gme, stoc...   Apr   \n",
       "3  [oddly, enough, besides, just, amazon, and, eb...   Apr   \n",
       "4  [eevee, tins, back, in, inventory, at, gamesto...   Apr   \n",
       "\n",
       "                                           stem_text  \n",
       "0  break news get ahold gamestop stock share face...  \n",
       "1    wait one day gamestop stock movi come go explod  \n",
       "2      local politician like gamestop gme stock soar  \n",
       "3  odd enough besid amazon ebay sometim look game...  \n",
       "4               eeve tin back inventori gamestop thx  "
      ]
     },
     "execution_count": 143,
     "metadata": {},
     "output_type": "execute_result"
    }
   ],
   "source": [
    "df3_2[:5]"
   ]
  },
  {
   "cell_type": "code",
   "execution_count": 144,
   "id": "c32d38b3",
   "metadata": {},
   "outputs": [],
   "source": [
    "df3_2.to_csv(r'C:\\kiko\\4_21-10_21.csv')"
   ]
  },
  {
   "cell_type": "code",
   "execution_count": 145,
   "id": "9ee461b1",
   "metadata": {},
   "outputs": [],
   "source": [
    "df3_3 = df3_2.copy()\n",
    "df3_3.loc[-1] = ['','','Apr',get_stem(st)]\n",
    "df3_3.index = df3_3.index + 1\n",
    "df3_3 = df3_3.sort_index()"
   ]
  },
  {
   "cell_type": "code",
   "execution_count": 146,
   "id": "dd4d3b1a",
   "metadata": {},
   "outputs": [],
   "source": [
    "df3_3['score'] = get_similarity_value(df3_3)"
   ]
  },
  {
   "cell_type": "code",
   "execution_count": 147,
   "id": "51aa3aca",
   "metadata": {},
   "outputs": [
    {
     "data": {
      "text/html": [
       "<div>\n",
       "<style scoped>\n",
       "    .dataframe tbody tr th:only-of-type {\n",
       "        vertical-align: middle;\n",
       "    }\n",
       "\n",
       "    .dataframe tbody tr th {\n",
       "        vertical-align: top;\n",
       "    }\n",
       "\n",
       "    .dataframe thead th {\n",
       "        text-align: right;\n",
       "    }\n",
       "</style>\n",
       "<table border=\"1\" class=\"dataframe\">\n",
       "  <thead>\n",
       "    <tr style=\"text-align: right;\">\n",
       "      <th></th>\n",
       "      <th>cleaned_sentence</th>\n",
       "      <th>words</th>\n",
       "      <th>phase</th>\n",
       "      <th>stem_text</th>\n",
       "      <th>score</th>\n",
       "    </tr>\n",
       "  </thead>\n",
       "  <tbody>\n",
       "    <tr>\n",
       "      <th>0</th>\n",
       "      <td></td>\n",
       "      <td></td>\n",
       "      <td>Apr</td>\n",
       "      <td>kiko think best time buy gme stock becaus stoc...</td>\n",
       "      <td>1.000000</td>\n",
       "    </tr>\n",
       "    <tr>\n",
       "      <th>1</th>\n",
       "      <td>breaking news get ahold of gamestop stock shar...</td>\n",
       "      <td>[breaking, news, get, ahold, of, gamestop, sto...</td>\n",
       "      <td>Apr</td>\n",
       "      <td>break news get ahold gamestop stock share face...</td>\n",
       "      <td>0.172133</td>\n",
       "    </tr>\n",
       "    <tr>\n",
       "      <th>2</th>\n",
       "      <td>if i have to wait one more day for those games...</td>\n",
       "      <td>[if, i, have, to, wait, one, more, day, for, t...</td>\n",
       "      <td>Apr</td>\n",
       "      <td>wait one day gamestop stock movi come go explod</td>\n",
       "      <td>0.172133</td>\n",
       "    </tr>\n",
       "    <tr>\n",
       "      <th>3</th>\n",
       "      <td>local politician likes gamestop gme stock soars</td>\n",
       "      <td>[local, politician, likes, gamestop, gme, stoc...</td>\n",
       "      <td>Apr</td>\n",
       "      <td>local politician like gamestop gme stock soar</td>\n",
       "      <td>0.292770</td>\n",
       "    </tr>\n",
       "    <tr>\n",
       "      <th>4</th>\n",
       "      <td>oddly enough besides just amazon and ebay i so...</td>\n",
       "      <td>[oddly, enough, besides, just, amazon, and, eb...</td>\n",
       "      <td>Apr</td>\n",
       "      <td>odd enough besid amazon ebay sometim look game...</td>\n",
       "      <td>0.087287</td>\n",
       "    </tr>\n",
       "    <tr>\n",
       "      <th>...</th>\n",
       "      <td>...</td>\n",
       "      <td>...</td>\n",
       "      <td>...</td>\n",
       "      <td>...</td>\n",
       "      <td>...</td>\n",
       "    </tr>\n",
       "    <tr>\n",
       "      <th>18912</th>\n",
       "      <td>etfs to turn to as fed sets stock market up fo...</td>\n",
       "      <td>[etfs, to, turn, to, as, fed, sets, stock, mar...</td>\n",
       "      <td>Apr</td>\n",
       "      <td>etf turn fed set stock market rise inflat inte...</td>\n",
       "      <td>0.214834</td>\n",
       "    </tr>\n",
       "    <tr>\n",
       "      <th>18913</th>\n",
       "      <td>etfs to turn to as fed sets stock market up fo...</td>\n",
       "      <td>[etfs, to, turn, to, as, fed, sets, stock, mar...</td>\n",
       "      <td>Apr</td>\n",
       "      <td>etf turn fed set stock market rise inflat inte...</td>\n",
       "      <td>0.214834</td>\n",
       "    </tr>\n",
       "    <tr>\n",
       "      <th>18914</th>\n",
       "      <td>gme was a top performing last month our shows ...</td>\n",
       "      <td>[gme, was, a, top, performing, last, month, ou...</td>\n",
       "      <td>Apr</td>\n",
       "      <td>gme top perform last month show gamestop view ...</td>\n",
       "      <td>0.060858</td>\n",
       "    </tr>\n",
       "    <tr>\n",
       "      <th>18915</th>\n",
       "      <td>etfs to turn to as fed sets stock market up fo...</td>\n",
       "      <td>[etfs, to, turn, to, as, fed, sets, stock, mar...</td>\n",
       "      <td>Apr</td>\n",
       "      <td>etf turn fed set stock market rise inflat inte...</td>\n",
       "      <td>0.214834</td>\n",
       "    </tr>\n",
       "    <tr>\n",
       "      <th>18916</th>\n",
       "      <td>etfs to turn to as fed sets stock market up fo...</td>\n",
       "      <td>[etfs, to, turn, to, as, fed, sets, stock, mar...</td>\n",
       "      <td>Apr</td>\n",
       "      <td>etf turn fed set stock market rise inflat inte...</td>\n",
       "      <td>0.214834</td>\n",
       "    </tr>\n",
       "  </tbody>\n",
       "</table>\n",
       "<p>18917 rows × 5 columns</p>\n",
       "</div>"
      ],
      "text/plain": [
       "                                        cleaned_sentence  \\\n",
       "0                                                          \n",
       "1      breaking news get ahold of gamestop stock shar...   \n",
       "2      if i have to wait one more day for those games...   \n",
       "3        local politician likes gamestop gme stock soars   \n",
       "4      oddly enough besides just amazon and ebay i so...   \n",
       "...                                                  ...   \n",
       "18912  etfs to turn to as fed sets stock market up fo...   \n",
       "18913  etfs to turn to as fed sets stock market up fo...   \n",
       "18914  gme was a top performing last month our shows ...   \n",
       "18915  etfs to turn to as fed sets stock market up fo...   \n",
       "18916  etfs to turn to as fed sets stock market up fo...   \n",
       "\n",
       "                                                   words phase  \\\n",
       "0                                                          Apr   \n",
       "1      [breaking, news, get, ahold, of, gamestop, sto...   Apr   \n",
       "2      [if, i, have, to, wait, one, more, day, for, t...   Apr   \n",
       "3      [local, politician, likes, gamestop, gme, stoc...   Apr   \n",
       "4      [oddly, enough, besides, just, amazon, and, eb...   Apr   \n",
       "...                                                  ...   ...   \n",
       "18912  [etfs, to, turn, to, as, fed, sets, stock, mar...   Apr   \n",
       "18913  [etfs, to, turn, to, as, fed, sets, stock, mar...   Apr   \n",
       "18914  [gme, was, a, top, performing, last, month, ou...   Apr   \n",
       "18915  [etfs, to, turn, to, as, fed, sets, stock, mar...   Apr   \n",
       "18916  [etfs, to, turn, to, as, fed, sets, stock, mar...   Apr   \n",
       "\n",
       "                                               stem_text     score  \n",
       "0      kiko think best time buy gme stock becaus stoc...  1.000000  \n",
       "1      break news get ahold gamestop stock share face...  0.172133  \n",
       "2        wait one day gamestop stock movi come go explod  0.172133  \n",
       "3          local politician like gamestop gme stock soar  0.292770  \n",
       "4      odd enough besid amazon ebay sometim look game...  0.087287  \n",
       "...                                                  ...       ...  \n",
       "18912  etf turn fed set stock market rise inflat inte...  0.214834  \n",
       "18913  etf turn fed set stock market rise inflat inte...  0.214834  \n",
       "18914  gme top perform last month show gamestop view ...  0.060858  \n",
       "18915  etf turn fed set stock market rise inflat inte...  0.214834  \n",
       "18916  etf turn fed set stock market rise inflat inte...  0.214834  \n",
       "\n",
       "[18917 rows x 5 columns]"
      ]
     },
     "execution_count": 147,
     "metadata": {},
     "output_type": "execute_result"
    }
   ],
   "source": [
    "df3_3"
   ]
  },
  {
   "cell_type": "code",
   "execution_count": 149,
   "id": "06668a51",
   "metadata": {},
   "outputs": [
    {
     "data": {
      "text/plain": [
       "0.07780527542651411"
      ]
     },
     "execution_count": 149,
     "metadata": {},
     "output_type": "execute_result"
    }
   ],
   "source": [
    "df3_3['score'].mean()"
   ]
  },
  {
   "cell_type": "code",
   "execution_count": 150,
   "id": "e170b76b",
   "metadata": {},
   "outputs": [
    {
     "name": "stdout",
     "output_type": "stream",
     "text": [
      "Similarity Scores:\n",
      "Apr: 0.07780527542651411\n",
      "Oct: 0.031220965651081775\n",
      "Jan: 0.12602066487725486\n"
     ]
    }
   ],
   "source": [
    "print('Similarity Scores:')\n",
    "print('Apr: ' + str(df3_3['score'].mean()))\n",
    "print('Oct: ' + str(df1_3['score'].mean()))\n",
    "print('Jan: ' + str(df2_3['score'].mean()))"
   ]
  },
  {
   "cell_type": "markdown",
   "id": "027f862b",
   "metadata": {},
   "source": [
    "# Based on the cos similarity, people are likely talking about the GME stock more after the Jan phase than before the Jan phase."
   ]
  },
  {
   "cell_type": "code",
   "execution_count": null,
   "id": "322e2955",
   "metadata": {},
   "outputs": [],
   "source": []
  }
 ],
 "metadata": {
  "kernelspec": {
   "display_name": "Python 3",
   "language": "python",
   "name": "python3"
  },
  "language_info": {
   "codemirror_mode": {
    "name": "ipython",
    "version": 3
   },
   "file_extension": ".py",
   "mimetype": "text/x-python",
   "name": "python",
   "nbconvert_exporter": "python",
   "pygments_lexer": "ipython3",
   "version": "3.8.8"
  }
 },
 "nbformat": 4,
 "nbformat_minor": 5
}
